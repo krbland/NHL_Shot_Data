{
 "cells": [
  {
   "cell_type": "code",
   "execution_count": 1,
   "metadata": {},
   "outputs": [],
   "source": [
    "import pandas as pd\n",
    "import pygsheets\n",
    "import io\n",
    "from zipfile import ZipFile\n",
    "import requests"
   ]
  },
  {
   "cell_type": "code",
   "execution_count": 2,
   "metadata": {},
   "outputs": [],
   "source": [
    "# Google Sheet ID of the Google Sheet\n",
    "sheet_id = '1FUrylov2akh3ZR7CG9l9C7xH0YijXv6g6gouk5GJzCE'\n",
    "\n",
    "# website of shot data\n",
    "data_url = 'http://peter-tanner.com/moneypuck/downloads/shots_2019.zip'"
   ]
  },
  {
   "cell_type": "code",
   "execution_count": 3,
   "metadata": {},
   "outputs": [],
   "source": [
    "# make a dataframe from the zipped csv file\n",
    "request_data = requests.get(data_url)\n",
    "zip_data = ZipFile(io.BytesIO(request_data.content))\n",
    "shot_data = pd.read_csv(zip_data.open('shots_2019.csv'))\n",
    "sheets_data = shot_data.iloc[: ,[0,1,11,12,35,36,37,38,39,42,43,44,47,59,62,65,66,89,90,94,97,103,104,105,106,107,113,114,116,122,123]]"
   ]
  },
  {
   "cell_type": "code",
   "execution_count": 4,
   "metadata": {},
   "outputs": [],
   "source": [
    "# authorize google sheet\n",
    "auth = pygsheets.authorize(service_file='NHL_shot.json')\n",
    "\n",
    "# open the google spreadsheet\n",
    "g_sheet = auth.open_by_key(sheet_id)\n",
    "\n",
    "# select the first sheet\n",
    "first_sheet = g_sheet[0]"
   ]
  },
  {
   "cell_type": "code",
   "execution_count": 5,
   "metadata": {},
   "outputs": [
    {
     "name": "stdout",
     "output_type": "stream",
     "text": [
      "Data has been updated\n"
     ]
    }
   ],
   "source": [
    "first_sheet.set_dataframe(sheets_data,(1,1))\n",
    "print('Data has been updated')"
   ]
  },
  {
   "cell_type": "code",
   "execution_count": null,
   "metadata": {},
   "outputs": [],
   "source": []
  }
 ],
 "metadata": {
  "kernelspec": {
   "display_name": "Python 3",
   "language": "python",
   "name": "python3"
  },
  "language_info": {
   "codemirror_mode": {
    "name": "ipython",
    "version": 3
   },
   "file_extension": ".py",
   "mimetype": "text/x-python",
   "name": "python",
   "nbconvert_exporter": "python",
   "pygments_lexer": "ipython3",
   "version": "3.7.3"
  }
 },
 "nbformat": 4,
 "nbformat_minor": 2
}
